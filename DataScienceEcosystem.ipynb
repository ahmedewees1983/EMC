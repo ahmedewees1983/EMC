{
 "cells": [
  {
   "cell_type": "markdown",
   "id": "c0766af0-393f-4a9e-a5cf-fd7c1addf56d",
   "metadata": {},
   "source": [
    "# Data Science Tools and Ecosystem"
   ]
  },
  {
   "cell_type": "markdown",
   "id": "eae096c5-fccf-4017-8b57-9b22a3f2b25f",
   "metadata": {},
   "source": [
    "## In this notebook, Data Science Tools and Ecosystem are summarized."
   ]
  },
  {
   "cell_type": "markdown",
   "id": "e911c370-d837-4d9f-9756-4145c1d11631",
   "metadata": {},
   "source": [
    "Some of the popular languages that Data Scientists use are:\n",
    "1. Python\n",
    "2. R\n",
    "3. SQL"
   ]
  },
  {
   "cell_type": "markdown",
   "id": "b8c7c42e-299c-4d8f-b239-f52844210409",
   "metadata": {},
   "source": [
    "Some of the commonly used libraries used by Data Scientists include:\n",
    "1. pandas\n",
    "2. Numpy\n",
    "3. TensorFlow\n",
    "    "
   ]
  },
  {
   "cell_type": "markdown",
   "id": "aa4e51a2-fba2-4671-ab42-bee05ed97eff",
   "metadata": {},
   "source": [
    "| Data Science Tools    |\n",
    "| ---------------------- |\n",
    "| Jupyter Notebooks      |\n",
    "| RStudio                |\n",
    "| VSCode with Python     |\n"
   ]
  },
  {
   "cell_type": "markdown",
   "id": "866ecd20-c6dd-40e7-afc8-6f824286629f",
   "metadata": {
    "tags": []
   },
   "source": [
    "### Below are a few examples of evaluating arithmetic expressions in Python\n",
    "\n",
    "\n",
    "#### Addition\n",
    "\n",
    "result = 3 + 5\n",
    "\n",
    "print(result) # output 8\n",
    "\n",
    "#### Substraction\n",
    "\n",
    "result = 5 - 3\n",
    "\n",
    "print(result) # output 2\n",
    "\n",
    "\n"
   ]
  },
  {
   "cell_type": "code",
   "execution_count": 3,
   "id": "402c679f-6f6d-4d70-b428-84e97a160ae3",
   "metadata": {
    "tags": []
   },
   "outputs": [
    {
     "data": {
      "text/plain": [
       "17"
      ]
     },
     "execution_count": 3,
     "metadata": {},
     "output_type": "execute_result"
    }
   ],
   "source": [
    "# This a simple arithmetic expression to mutiply then add integers\n",
    "\n",
    "(3*4)+5"
   ]
  },
  {
   "cell_type": "code",
   "execution_count": 4,
   "id": "c5a0e27d-7db1-4d75-a97e-5aaff2fca216",
   "metadata": {
    "tags": []
   },
   "outputs": [
    {
     "data": {
      "text/plain": [
       "3.3333333333333335"
      ]
     },
     "execution_count": 4,
     "metadata": {},
     "output_type": "execute_result"
    }
   ],
   "source": [
    "# This will convert 200 minutes to hours by diving by 60:\n",
    "200 / 60"
   ]
  },
  {
   "cell_type": "markdown",
   "id": "1a5e2bd1-12be-42a5-919b-330ed538c548",
   "metadata": {},
   "source": [
    "**Objectives:**\n",
    "\n",
    "* List popular languages for Data Science\n",
    "* Git & GitHub\n",
    "* Jupyter Notebook enviroment"
   ]
  },
  {
   "cell_type": "markdown",
   "id": "69b9e7fd-9934-461e-bd25-d45a8e19c258",
   "metadata": {},
   "source": [
    "## Author\n",
    "\n",
    "Ahmed Ewees\n"
   ]
  },
  {
   "cell_type": "code",
   "execution_count": null,
   "id": "45bf8da2-5e98-4c73-8bee-f444939af10b",
   "metadata": {},
   "outputs": [],
   "source": []
  }
 ],
 "metadata": {
  "kernelspec": {
   "display_name": "Python 3 (ipykernel)",
   "language": "python",
   "name": "python3"
  },
  "language_info": {
   "codemirror_mode": {
    "name": "ipython",
    "version": 3
   },
   "file_extension": ".py",
   "mimetype": "text/x-python",
   "name": "python",
   "nbconvert_exporter": "python",
   "pygments_lexer": "ipython3",
   "version": "3.11.4"
  }
 },
 "nbformat": 4,
 "nbformat_minor": 5
}
